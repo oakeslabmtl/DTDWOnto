{
 "cells": [
  {
   "cell_type": "code",
   "execution_count": 1,
   "id": "9c8ad337-311b-4d23-9d57-e7d143dffaac",
   "metadata": {},
   "outputs": [],
   "source": [
    "import os\n",
    "import pandas as pd\n",
    "import matplotlib.pyplot as plt\n",
    "import workflow_steps as wflow\n",
    "import workflow_steps_utils as utils\n",
    "\n",
    "# Define step names\n",
    "CONSTANTS = {\n",
    "    'step_1':'process_flow_rate',\n",
    "    'step_2': 'plot_flow_rate',\n",
    "    'step_3': 'prototype_state_machine',\n",
    "    'step_4': 'calibrate_state_machine',\n",
    "    'step_5': 'validate_state_machine',\n",
    "    'step_6': 'emqx_component',\n",
    "    'step_7': 'test_dt_service',\n",
    "    'step_8': 'validate_dt_service',\n",
    "    'step_9': 'benchmark_network_error',\n",
    "}\n"
   ]
  },
  {
   "cell_type": "markdown",
   "id": "8ba918e6-7dd3-4f07-8330-f7822eb8a6e9",
   "metadata": {
    "jp-MarkdownHeadingCollapsed": true
   },
   "source": [
    "### Step 1: Process flow rate data\n",
    "- This step involves connecting to the database, query and fetch the flow rate weights to generate the local `./service/avg_flow_rate.csv` file.\n",
    "\n",
    "#### Inputs:\n",
    "- Raw inputs from the the external data source\n",
    "\n",
    "#### Outputs:\n",
    "- Average flow rate data to stored in `./service/avg_flow_rate.csv`"
   ]
  },
  {
   "cell_type": "code",
   "execution_count": 2,
   "id": "fb9cbd7a-afd3-47ae-913a-e4e981274dab",
   "metadata": {},
   "outputs": [
    {
     "name": "stdout",
     "output_type": "stream",
     "text": [
      "2025-04-30 09:33:48.934 INFO SimulateStep : The step contains the following model(s)/data: {'avg_flow_rate_data': 'service/avg_flow_rate.csv'}\n"
     ]
    }
   ],
   "source": [
    "# Initialize\n",
    "graph = wflow.KnowledgeGraph()\n",
    "\n",
    "# 1. Initialize the step by providing the name of the step.\n",
    "graph.initialize_step(CONSTANTS['step_1']) # REQUIRED"
   ]
  },
  {
   "cell_type": "code",
   "execution_count": null,
   "id": "c484327c-dddb-41df-9c4e-bf10730948e5",
   "metadata": {},
   "outputs": [],
   "source": [
    "### FILL IN THE DATABASE CONNECTION, DATA PRE-PROCESSING AND OTHER REQUIRED CODE OF THE SERVICE HERE\n"
   ]
  },
  {
   "cell_type": "code",
   "execution_count": 5,
   "id": "381b1ea7-63ec-45ed-858e-f8f3c279ad3e",
   "metadata": {},
   "outputs": [
    {
     "name": "stdout",
     "output_type": "stream",
     "text": [
      "2025-04-28 17:43:53.641 INFO SimulateStep : process_flow_rate is the first step of the workflow!\n",
      "2025-04-28 17:43:57.768 INFO SimulateStep : Successfully updated execution timestamps the step at 2025-04-28 17:43:53.642000\n"
     ]
    }
   ],
   "source": [
    "# 3. Compare models timestamps\n",
    "graph.compare_prior_step_timestamp() # REQUIRED\n",
    "\n",
    "# 4. Update models timestamps\n",
    "graph.update_last_execution_timestamps() # REQUIRED\n",
    "\n",
    "# 7. Validate\n",
    "graph.validate_model_last_execution_timestamps()"
   ]
  },
  {
   "cell_type": "markdown",
   "id": "9729d8de-8256-4ff9-a463-1bb64315e140",
   "metadata": {
    "jp-MarkdownHeadingCollapsed": true
   },
   "source": [
    "### Step 2: Plot flow rate data\n",
    "This step involves plotting average flow rate data in the `./service/avg_flow_rate_data.csv` file generated from the previous step.\n",
    "\n",
    "#### Inputs:\n",
    "- Average flow rate data from `./service/avg_flow_rate_data.csv`\n",
    "\n",
    "#### Outputs:\n",
    "- Average flow rate plot to stored in `./service/avg_flow_rate_plot.pdf`"
   ]
  },
  {
   "cell_type": "code",
   "execution_count": 6,
   "id": "15b4d6dbcf718f9b",
   "metadata": {},
   "outputs": [
    {
     "name": "stdout",
     "output_type": "stream",
     "text": [
      "2025-04-28 17:44:19.173 INFO SimulateStep : The step contains the following model(s)/data: {'avg_flow_rate_data': 'service/avg_flow_rate.csv', 'avg_flow_rate_plot': 'service/avg_flow_rate_plot.pdf'}\n"
     ]
    }
   ],
   "source": [
    "# Initialize\n",
    "graph = wflow.KnowledgeGraph()\n",
    "\n",
    "# 1. Initialize the step by providing the name of the step.\n",
    "graph.initialize_step(CONSTANTS['step_2']) # REQUIRED"
   ]
  },
  {
   "cell_type": "code",
   "execution_count": null,
   "id": "9ba3a5b0-a942-432c-ab92-9c08cd9bdfdf",
   "metadata": {},
   "outputs": [],
   "source": [
    "### FILL IN CODE TO PLOT THE DATA HERE\n"
   ]
  },
  {
   "cell_type": "code",
   "execution_count": 7,
   "id": "d90e0b6d-7cc7-44d3-b562-06d8c9d61ccd",
   "metadata": {},
   "outputs": [
    {
     "name": "stdout",
     "output_type": "stream",
     "text": [
      "2025-04-28 17:44:28.630 INFO SimulateStep : Comparing model(s) last execution timestamp in step plot_flow_rate with model(s) in the previous step in the workflow!\n",
      "2025-04-28 17:44:40.960 INFO SimulateStep : Successfully updated execution timestamps the step at 2025-04-28 17:44:32.697000\n"
     ]
    }
   ],
   "source": [
    "# 3. Compare models timestamps\n",
    "graph.compare_prior_step_timestamp() # REQUIRED\n",
    "\n",
    "# 4. Update models timestamps\n",
    "graph.update_last_execution_timestamps() # REQUIRED\n",
    "\n",
    "# 7. Validate\n",
    "graph.validate_model_last_execution_timestamps()"
   ]
  },
  {
   "cell_type": "markdown",
   "id": "db768a76-fa72-4651-bd3b-c331487fe84e",
   "metadata": {
    "jp-MarkdownHeadingCollapsed": true
   },
   "source": [
    "### Step 3: Prototype the state machine model\n",
    "This step involves plotting the flow rate data extracted from the previous step.\n",
    "\n",
    "#### Inputs:\n",
    "- Average flow rate plot data from `./service/avg_flow_rate_plot.pdf`\n",
    "\n",
    "#### Outputs:\n",
    "- State machine model to stored in `./service/state_machine_model.pickle`"
   ]
  },
  {
   "cell_type": "code",
   "execution_count": null,
   "id": "db983568-b80e-4225-806f-3d0378138a6a",
   "metadata": {},
   "outputs": [],
   "source": [
    "# Initialize\n",
    "graph = wflow.KnowledgeGraph()\n",
    "\n",
    "# 1. Initialize the step by providing the name of the step.\n",
    "graph.initialize_step(CONSTANTS['step_3']) # REQUIRED"
   ]
  },
  {
   "cell_type": "code",
   "execution_count": null,
   "id": "0d0d0f42-e701-4d3f-be7d-06dc82d1417c",
   "metadata": {},
   "outputs": [],
   "source": [
    "### FILL IN CODE TO PROTOTYPE STATE MACHINE MODEL AND STORE UPDATED MODEL HERE\n"
   ]
  },
  {
   "cell_type": "code",
   "execution_count": null,
   "id": "a00ec463-7263-4c00-b42b-a09dc9e9dd14",
   "metadata": {},
   "outputs": [],
   "source": [
    "# 3. Compare models timestamps\n",
    "graph.compare_prior_step_timestamp() # REQUIRED\n",
    "\n",
    "# 4. Update models timestamps\n",
    "graph.update_last_execution_timestamps() # REQUIRED\n",
    "\n",
    "# 7. Validate\n",
    "graph.validate_model_last_execution_timestamps()"
   ]
  },
  {
   "cell_type": "markdown",
   "id": "f819b377-fc7d-4a78-a13e-00d35f1fa441",
   "metadata": {
    "jp-MarkdownHeadingCollapsed": true
   },
   "source": [
    "### Step 4: Calibrate the state machine model\n",
    "This step involves calibrating the state machine model.\n",
    "\n",
    "#### Inputs:\n",
    "- Average flow rate data from `./service/avg_flow_rate.csv`\n",
    "- State machine model from `./service/state_machine_model.pickle`\n",
    "\n",
    "#### Outputs:\n",
    "- State machine model parameters to stored in `./service/state_machine_parameters.json`"
   ]
  },
  {
   "cell_type": "code",
   "execution_count": null,
   "id": "204109f0-58ee-4a1b-90ea-fe52dec3b04a",
   "metadata": {},
   "outputs": [],
   "source": [
    "# Initialize\n",
    "graph = wflow.KnowledgeGraph()\n",
    "\n",
    "# 1. Initialize the step by providing the name of the step.\n",
    "graph.initialize_step(CONSTANTS['step_4']) # REQUIRED"
   ]
  },
  {
   "cell_type": "code",
   "execution_count": null,
   "id": "19a19ac6-0312-49af-872e-d8cac4f814e2",
   "metadata": {},
   "outputs": [],
   "source": [
    "### FILL IN CODE TO CALIBRATE STATE MACHINE MODEL AND STORE UPDATED MODEL PARAMETERS HERE\n"
   ]
  },
  {
   "cell_type": "code",
   "execution_count": null,
   "id": "22a6b4c5-7aab-4307-881d-1822b81bdcfd",
   "metadata": {},
   "outputs": [],
   "source": [
    "# 3. Compare models timestamps\n",
    "graph.compare_prior_step_timestamp() # REQUIRED\n",
    "\n",
    "# 4. Update models timestamps\n",
    "graph.update_last_execution_timestamps() # REQUIRED\n",
    "\n",
    "# 7. Validate\n",
    "graph.validate_model_last_execution_timestamps()"
   ]
  },
  {
   "cell_type": "markdown",
   "id": "89bc5540-d1be-46a3-be3f-429d9814734e",
   "metadata": {
    "jp-MarkdownHeadingCollapsed": true
   },
   "source": [
    "### Step 5: Validate state machine model\n",
    "\n",
    "This step testing the DT service with the EMQX interface.\n",
    "\n",
    "#### Inputs:\n",
    "- Average flow rate data from `./service/avg_flow_rate.csv`\n",
    "- State machine model from `./service/state_machine_model.pickle`\n",
    "- State machine model parameters from `./service/state_machine_parameters.json`\n",
    "\n",
    "#### Outputs:\n",
    "- DT service to be stored in `./service/state_machine_validity_plot.pdf`"
   ]
  },
  {
   "cell_type": "code",
   "execution_count": null,
   "id": "97c0b531-3a38-45c8-bb5d-99200da85345",
   "metadata": {},
   "outputs": [],
   "source": [
    "# Initialize\n",
    "graph = wflow.KnowledgeGraph()\n",
    "\n",
    "# 1. Initialize the step by providing the name of the step.\n",
    "graph.initialize_step(CONSTANTS['step_5']) # REQUIRED"
   ]
  },
  {
   "cell_type": "code",
   "execution_count": null,
   "id": "9feefcef-4168-4d03-b608-6f126591f93f",
   "metadata": {},
   "outputs": [],
   "source": [
    "### FILL IN CODE TO VALDATE STATE MACHINE MODEL HERE\n"
   ]
  },
  {
   "cell_type": "code",
   "execution_count": null,
   "id": "961a64ec-81e7-4abe-8abc-64087d357e56",
   "metadata": {},
   "outputs": [],
   "source": [
    "# 3. Compare models timestamps\n",
    "graph.compare_prior_step_timestamp() # REQUIRED\n",
    "\n",
    "# 4. Update models timestamps\n",
    "graph.update_last_execution_timestamps() # REQUIRED\n"
   ]
  },
  {
   "cell_type": "code",
   "execution_count": null,
   "id": "a5535104-e6a3-411e-9e0b-0086a26b9ece",
   "metadata": {},
   "outputs": [],
   "source": [
    "# 7. Validate\n",
    "graph.validate_model_last_execution_timestamps()\n",
    "\n",
    "### FILL IN CODE TO PLOT VALIDITY DATA HERE\n"
   ]
  },
  {
   "cell_type": "markdown",
   "id": "007af80c-4cd2-4a39-bb97-d4929c984da3",
   "metadata": {
    "jp-MarkdownHeadingCollapsed": true
   },
   "source": [
    "### Step 6: Wrap state machine model in a EMQX component\n",
    "\n",
    "This step testing the DT service with the EMQX interface.\n",
    "\n",
    "#### Inputs:\n",
    "- State machine model from `./service/state_machine_model.pickle`\n",
    "- State machine model parameters from `./service/state_machine_parameters.json`\n",
    "\n",
    "#### Outputs:\n",
    "- DT service to be stored in `./service/dt_service_model.pickle`"
   ]
  },
  {
   "cell_type": "code",
   "execution_count": null,
   "id": "a30c3fb7-6253-44c2-b601-6818034abeb6",
   "metadata": {},
   "outputs": [],
   "source": [
    "# Initialize\n",
    "graph = wflow.KnowledgeGraph()\n",
    "\n",
    "# 1. Initialize the step by providing the name of the step.\n",
    "graph.initialize_step(CONSTANTS['step_6']) # REQUIRED"
   ]
  },
  {
   "cell_type": "code",
   "execution_count": null,
   "id": "71904ba0-2788-4df9-83c4-7c92969fdd22",
   "metadata": {},
   "outputs": [],
   "source": [
    "### FILL IN CODE OF TO BUILD THE DT SERVICE\n",
    "\n"
   ]
  },
  {
   "cell_type": "code",
   "execution_count": null,
   "id": "65103893-5a0f-42e8-9308-10542259ee7c",
   "metadata": {},
   "outputs": [],
   "source": [
    "# 3. Compare models timestamps\n",
    "graph.compare_prior_step_timestamp() # REQUIRED\n",
    "\n",
    "# 4. Update models timestamps\n",
    "graph.update_last_execution_timestamps() # REQUIRED\n",
    "\n",
    "# 7. Validate\n",
    "graph.validate_model_last_execution_timestamps()"
   ]
  },
  {
   "cell_type": "markdown",
   "id": "365fabf4-daaf-46ab-bed0-e50bd341ce4e",
   "metadata": {
    "jp-MarkdownHeadingCollapsed": true
   },
   "source": [
    "### Step 7: Test DT service model inside the EMQX interface\n",
    "\n",
    "This step testing the DT service with the EMQX interface.\n",
    "\n",
    "#### Inputs:\n",
    "- Average flow rate data from `./service/avg_flow_rate.csv`\n",
    "- DT service model from `./service/dt_service_model.pickle`\n",
    "\n",
    "#### Outputs:\n",
    "- Anomaly signal stream to be stored in `./service/anomaly_signal.csv`"
   ]
  },
  {
   "cell_type": "code",
   "execution_count": null,
   "id": "00fa0586-b6ab-4071-b676-7a7c88b5520e",
   "metadata": {},
   "outputs": [],
   "source": [
    "# Initialize\n",
    "graph = wflow.KnowledgeGraph()\n",
    "\n",
    "# 1. Initialize the step by providing the name of the step.\n",
    "graph.initialize_step(CONSTANTS['step_7']) # REQUIRED"
   ]
  },
  {
   "cell_type": "code",
   "execution_count": null,
   "id": "bfe6db1a-d56a-4aac-8d5a-003880527f73",
   "metadata": {},
   "outputs": [],
   "source": [
    "### FILL IN CODE TO BUILD TEST DT SERVICE AND CREATE ANOMALY SIGNAL STREAM HERE\n",
    "\n"
   ]
  },
  {
   "cell_type": "code",
   "execution_count": null,
   "id": "459d1243-457b-4eb2-9e14-afc032b2b929",
   "metadata": {},
   "outputs": [],
   "source": [
    "# 3. Compare models timestamps\n",
    "graph.compare_prior_step_timestamp() # REQUIRED\n",
    "\n",
    "# 4. Update models timestamps\n",
    "graph.update_last_execution_timestamps() # REQUIRED\n",
    "\n",
    "# 7. Validate\n",
    "graph.validate_model_last_execution_timestamps()"
   ]
  },
  {
   "cell_type": "markdown",
   "id": "1c1df7fd-1c76-4fac-92ac-c70f1a177fad",
   "metadata": {
    "jp-MarkdownHeadingCollapsed": true
   },
   "source": [
    "### Step 8:  Validate DT Service\n",
    "This step involves validating the DT service\n",
    "\n",
    "#### Inputs:\n",
    "- Anomaly signal stream data from `./service/anomaly_signal.csv`\n",
    "- Plot data from from `./service/state_machine_validity_plot.pdf`\n",
    "\n",
    "#### Outputs:\n",
    "- Plot validity metrics to be stored in `./service/dt_service_validity_plot.pdf`"
   ]
  },
  {
   "cell_type": "code",
   "execution_count": null,
   "id": "4f0b0881-ba38-4859-b447-15c146e83d53",
   "metadata": {},
   "outputs": [],
   "source": [
    "# Initialize\n",
    "graph = wflow.KnowledgeGraph()\n",
    "\n",
    "# 1. Initialize the step by providing the name of the step.\n",
    "graph.initialize_step(CONSTANTS['step_8']) # REQUIRED"
   ]
  },
  {
   "cell_type": "code",
   "execution_count": null,
   "id": "19b7df7b-97d1-4596-988b-631128ed8beb",
   "metadata": {},
   "outputs": [],
   "source": [
    "### FILL IN CODE TO VALIDATE THE DT SERVICE\n"
   ]
  },
  {
   "cell_type": "code",
   "execution_count": null,
   "id": "8495ad0a-245c-4af3-8ecd-f17eab2df8fd",
   "metadata": {},
   "outputs": [],
   "source": [
    "# 3. Compare models timestamps\n",
    "graph.compare_prior_step_timestamp() # REQUIRED\n",
    "\n",
    "# 4. Update models timestamps\n",
    "graph.update_last_execution_timestamps() # REQUIRED\n"
   ]
  },
  {
   "cell_type": "code",
   "execution_count": null,
   "id": "52b28441-9a47-4ac5-884d-d07f9518c36a",
   "metadata": {},
   "outputs": [],
   "source": [
    "# 2. Validate\n",
    "graph.validate_model_last_execution_timestamps()\n",
    "\n",
    "### FILL IN CODE TO PLOT THE DATA HERE\n"
   ]
  },
  {
   "cell_type": "markdown",
   "id": "3a09ae54-7131-4f09-9c15-21ec90ca9b3b",
   "metadata": {
    "jp-MarkdownHeadingCollapsed": true
   },
   "source": [
    "### Step 9: Benchmark DT service for network errors\n",
    "This step involves benchmarking the DT service for network errors handling using simulated network traffic data.\n",
    "\n",
    "#### Inputs:\n",
    "- Network latencency data from `./service/network_error.csv`\n",
    "- DT Service model from `./service/dt_service_model.pickle`\n",
    "\n",
    "#### Outputs:\n",
    "- Plot metrics to be stored in `./service/network_error_metrics_plot.pdf`"
   ]
  },
  {
   "cell_type": "code",
   "execution_count": null,
   "id": "8152259d-d2e2-4938-8574-f8bacc5ac175",
   "metadata": {},
   "outputs": [],
   "source": [
    "# Initialize\n",
    "graph = wflow.KnowledgeGraph()\n",
    "\n",
    "# 1. Initialize the step by providing the name of the step.\n",
    "graph.initialize_step(CONSTANTS['step_9']) # REQUIRED"
   ]
  },
  {
   "cell_type": "code",
   "execution_count": null,
   "id": "f178d6a5-af5a-42e6-95ff-988500e1370c",
   "metadata": {},
   "outputs": [],
   "source": [
    "### FILL IN CODE TO RUN THE DT SERVICE WITH SIMULATED NETWORK ERROR HERE\n"
   ]
  },
  {
   "cell_type": "code",
   "execution_count": null,
   "id": "d9c8d062-4be7-4602-a174-81bf1671bc2b",
   "metadata": {},
   "outputs": [],
   "source": [
    "# 3. Compare models timestamps\n",
    "graph.compare_prior_step_timestamp() # REQUIRED\n",
    "\n",
    "# 4. Update models timestamps\n",
    "graph.update_last_execution_timestamps() # REQUIRED\n"
   ]
  },
  {
   "cell_type": "code",
   "execution_count": null,
   "id": "c52ba6cf-403a-4929-b37c-a07dc15340fa",
   "metadata": {},
   "outputs": [],
   "source": [
    "# 2. Validate\n",
    "graph.validate_model_last_execution_timestamps()\n",
    "\n",
    "### FILL IN CODE TO PLOT THE DATA HERE\n"
   ]
  }
 ],
 "metadata": {
  "kernelspec": {
   "display_name": "Python 3 (ipykernel)",
   "language": "python",
   "name": "python3"
  },
  "language_info": {
   "codemirror_mode": {
    "name": "ipython",
    "version": 3
   },
   "file_extension": ".py",
   "mimetype": "text/x-python",
   "name": "python",
   "nbconvert_exporter": "python",
   "pygments_lexer": "ipython3",
   "version": "3.13.3"
  }
 },
 "nbformat": 4,
 "nbformat_minor": 5
}
